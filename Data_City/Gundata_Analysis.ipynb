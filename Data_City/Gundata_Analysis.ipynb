{
 "cells": [
  {
   "cell_type": "markdown",
   "metadata": {},
   "source": [
    "# Gun Violence Analysis"
   ]
  },
  {
   "cell_type": "markdown",
   "metadata": {},
   "source": [
    "### Importing packages"
   ]
  },
  {
   "cell_type": "code",
   "execution_count": 5,
   "metadata": {},
   "outputs": [],
   "source": [
    "import pandas as pd\n",
    "import csv\n",
    "import numpy as np\n",
    "import matplotlib.pyplot as plt\n",
    "import matplotlib"
   ]
  },
  {
   "cell_type": "markdown",
   "metadata": {},
   "source": [
    "### Reading Gun Voilence data"
   ]
  },
  {
   "cell_type": "code",
   "execution_count": 6,
   "metadata": {},
   "outputs": [],
   "source": [
    "gun_Folder=pd.read_csv('gun-violence-data_01-2013_03-2018.csv\\gun-violence-data_01-2013_03-2018.csv',header=0, usecols = [1,2,3,14,16] )\n",
    "df_gun =pd.DataFrame(gun_Folder)\n",
    "city_state_folder = pd.read_csv('City_state.csv', header=0, usecols = [0,1])\n",
    "df_location = pd.DataFrame(city_state_folder)\n",
    "gun_state_groups = df_gun.sort_values(by=['state','date','city_or_county'])"
   ]
  },
  {
   "cell_type": "markdown",
   "metadata": {},
   "source": [
    "### Sorting States and Cities based on Gun rules"
   ]
  },
  {
   "cell_type": "code",
   "execution_count": 7,
   "metadata": {},
   "outputs": [],
   "source": [
    "states_list = pd.Series(df_location.loc[:,'State'])\n",
    "city_list = pd.Series(df_location.loc[:,'City'])\n",
    "df_state_filter = gun_state_groups[gun_state_groups['state'].isin(states_list)]\n",
    "df_state_city_filter = df_state_filter[df_state_filter['city_or_county'].isin(city_list)]"
   ]
  },
  {
   "cell_type": "code",
   "execution_count": 8,
   "metadata": {},
   "outputs": [
    {
     "name": "stderr",
     "output_type": "stream",
     "text": [
      "C:\\Users\\Laura Pereira\\Anaconda3\\lib\\site-packages\\ipykernel_launcher.py:2: SettingWithCopyWarning: \n",
      "A value is trying to be set on a copy of a slice from a DataFrame.\n",
      "Try using .loc[row_indexer,col_indexer] = value instead\n",
      "\n",
      "See the caveats in the documentation: http://pandas.pydata.org/pandas-docs/stable/indexing.html#indexing-view-versus-copy\n",
      "  \n"
     ]
    },
    {
     "data": {
      "text/plain": [
       "year  Categories\n",
       "2013  Prohibted       26\n",
       "2014  Moderate       496\n",
       "      No_Laws        399\n",
       "      Prohibted     4968\n",
       "2015  Moderate       568\n",
       "      No_Laws        561\n",
       "      Prohibted     5068\n",
       "2016  Moderate       529\n",
       "      No_Laws        502\n",
       "      Prohibted     5558\n",
       "2017  Moderate       518\n",
       "      No_Laws        451\n",
       "      Prohibted     5473\n",
       "2018  Moderate       103\n",
       "      No_Laws        124\n",
       "      Prohibted     1118\n",
       "Name: state, dtype: int64"
      ]
     },
     "execution_count": 8,
     "metadata": {},
     "output_type": "execute_result"
    }
   ],
   "source": [
    "s=df_state_city_filter['date'].apply(lambda x:x.split('-'))\n",
    "df_state_city_filter['year']=s.apply(lambda x:x[0])\n",
    "df_new=df_state_city_filter.fillna(0)\n",
    "\n",
    "gunLaw_Categories = pd.read_csv('GunLaw_Categories.csv', header=0, usecols = [0,1])\n",
    "\n",
    "df_merged= pd.merge(df_new, gunLaw_Categories, how = 'left', on ='state')\n",
    "#print(df_merged)\n",
    "\n",
    "df_merged1 = df_merged.groupby(['year','Categories'])['state'].count()\n",
    "df_merged1"
   ]
  },
  {
   "cell_type": "markdown",
   "metadata": {},
   "source": [
    "### Finding average number of incidents"
   ]
  },
  {
   "cell_type": "code",
   "execution_count": 9,
   "metadata": {},
   "outputs": [],
   "source": [
    "df_merged1 =df_merged1.unstack().T\n",
    "df_merged1.loc['Prohibted'] /= 9*30\n",
    "df_merged1.loc['Moderate'] /= 4 *13\n",
    "df_merged1.loc['No_Laws'] /= 4*8\n",
    "df_merged1 = df_merged1.drop('2013',axis=1)"
   ]
  },
  {
   "cell_type": "markdown",
   "metadata": {},
   "source": [
    "### Plotting the Graph"
   ]
  },
  {
   "cell_type": "code",
   "execution_count": 10,
   "metadata": {},
   "outputs": [
    {
     "data": {
      "text/plain": [
       "array([<matplotlib.axes._subplots.AxesSubplot object at 0x0000024DEBF1D978>,\n",
       "       <matplotlib.axes._subplots.AxesSubplot object at 0x0000024DECFB8128>,\n",
       "       <matplotlib.axes._subplots.AxesSubplot object at 0x0000024DED13F6A0>,\n",
       "       <matplotlib.axes._subplots.AxesSubplot object at 0x0000024DED16BC18>,\n",
       "       <matplotlib.axes._subplots.AxesSubplot object at 0x0000024DED19C198>],\n",
       "      dtype=object)"
      ]
     },
     "execution_count": 10,
     "metadata": {},
     "output_type": "execute_result"
    },
    {
     "data": {
      "image/png": "[encoded data removed]",
      "text/plain": [
       "<Figure size 720x720 with 5 Axes>"
      ]
     },
     "metadata": {},
     "output_type": "display_data"
    }
   ],
   "source": [
    "df_merged1.plot(kind='bar', subplots=True, figsize=(10,10) )"
   ]
  },
  {
   "cell_type": "code",
   "execution_count": null,
   "metadata": {},
   "outputs": [],
   "source": []
  }
 ],
 "metadata": {
  "kernelspec": {
   "display_name": "Python 3",
   "language": "python",
   "name": "python3"
  },
  "language_info": {
   "codemirror_mode": {
    "name": "ipython",
    "version": 3
   },
   "file_extension": ".py",
   "mimetype": "text/x-python",
   "name": "python",
   "nbconvert_exporter": "python",
   "pygments_lexer": "ipython3",
   "version": "3.6.5"
  }
 },
 "nbformat": 4,
 "nbformat_minor": 2
}
