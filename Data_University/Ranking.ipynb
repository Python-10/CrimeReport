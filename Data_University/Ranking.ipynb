{
 "cells": [
  {
   "cell_type": "markdown",
   "metadata": {},
   "source": [
    "# Rank the universities based on average crime rate from 2001 to 2016"
   ]
  },
  {
   "cell_type": "markdown",
   "metadata": {},
   "source": [
    "## read in the full data file"
   ]
  },
  {
   "cell_type": "code",
   "execution_count": null,
   "metadata": {},
   "outputs": [],
   "source": [
    "import csv\n",
    "import pandas as pd\n",
    "import numpy as np\n",
    "import matplotlib.pyplot as plt\n",
    "University_data=pd.read_csv('Data_University/full_data_final.csv',delimiter=',',header=0)\n",
    "University_dataframe=pd.DataFrame(University_data)\n",
    "University_dataframe"
   ]
  },
  {
   "cell_type": "code",
   "execution_count": null,
   "metadata": {},
   "outputs": [],
   "source": [
    "#drop columns\n",
    "del University_dataframe['Location']\n",
    "del University_dataframe['There are no data to download.']\n",
    "University_dataframe"
   ]
  },
  {
   "cell_type": "markdown",
   "metadata": {},
   "source": [
    "## sum up the total crimes"
   ]
  },
  {
   "cell_type": "code",
   "execution_count": 23,
   "metadata": {},
   "outputs": [],
   "source": [
    "University_dataframe['Total']=University_dataframe.iloc[:,7:len(University_dataframe.columns)-1].sum(axis=1)"
   ]
  },
  {
   "cell_type": "markdown",
   "metadata": {},
   "source": [
    "## calculate the crime rate"
   ]
  },
  {
   "cell_type": "code",
   "execution_count": null,
   "metadata": {},
   "outputs": [],
   "source": [
    "University_dataframe['Crime Rate']=University_dataframe['Total']/University_dataframe['Institution Size']*100\n",
    "University_Sum=University_dataframe.groupby(['Institution name']).sum()\n",
    "University_CrimeRate=University_Sum['Crime Rate']\n",
    "University_CrimeRate"
   ]
  },
  {
   "cell_type": "code",
   "execution_count": 25,
   "metadata": {},
   "outputs": [
    {
     "data": {
      "text/plain": [
       "Institution name\n",
       "Pace University-New York                        0.340406\n",
       "Richland College                                1.277442\n",
       "Los Angeles City College                        2.037514\n",
       "Texas A & M University-College Station          2.978289\n",
       "Georgia State University                        3.369660\n",
       "University of Mississippi                       3.926713\n",
       "Carlow University                               4.074547\n",
       "Metropolitan State University of Denver         4.604851\n",
       "The University of Texas at Austin               4.712570\n",
       "New York University                             4.748677\n",
       "University of Houston                           5.207802\n",
       "Duquesne University                             5.241342\n",
       "Chatham University                              5.612844\n",
       "University of Utah                              6.005713\n",
       "University of Wisconsin-Madison                 6.190846\n",
       "Boston University                               6.363224\n",
       "University of Illinois at Chicago               6.547461\n",
       "University of Delaware                          6.763035\n",
       "Oregon State University                         6.988528\n",
       "University of Arizona                           7.171381\n",
       "University of Washington-Seattle Campus         7.860452\n",
       "University of Pittsburgh-Pittsburgh Campus      8.087023\n",
       "Cornell University                              8.244979\n",
       "University of Oregon                            8.260970\n",
       "University of Colorado Boulder                  8.413716\n",
       "Portland State University                       8.549623\n",
       "University of Michigan-Ann Arbor                8.613117\n",
       "University of Virginia-Main Campus              8.773882\n",
       "Carnegie Mellon University                      9.155575\n",
       "University of Southern California               9.374391\n",
       "Northern Arizona University                     9.386036\n",
       "Columbia University in the City of New York     9.598699\n",
       "Northeastern University                        10.386889\n",
       "San Francisco State University                 10.392088\n",
       "Concordia University-Portland                  10.395517\n",
       "Fordham University                             10.449344\n",
       "Lewis & Clark College                          10.774308\n",
       "Emory University                               11.217978\n",
       "University of Maryland-College Park            11.249473\n",
       "Syracuse University                            11.745432\n",
       "University of California-Los Angeles           12.047380\n",
       "University of Kentucky                         12.545468\n",
       "University of Illinois at Urbana-Champaign     12.820983\n",
       "Georgia Institute of Technology-Main Campus    13.664950\n",
       "University of Denver                           15.130066\n",
       "University of California-Berkeley              16.024392\n",
       "Universidad Del Turabo                         17.355902\n",
       "Northwestern University                        17.741385\n",
       "Ohio State University-Main Campus              17.901364\n",
       "Name: Crime Rate, dtype: float64"
      ]
     },
     "execution_count": 25,
     "metadata": {},
     "output_type": "execute_result"
    }
   ],
   "source": [
    "University_CrimeRate.sort_values(ascending=True)\n",
    "#sort the institution name by crime rate"
   ]
  },
  {
   "cell_type": "code",
   "execution_count": null,
   "metadata": {},
   "outputs": [],
   "source": []
  }
 ],
 "metadata": {
  "kernelspec": {
   "display_name": "Python 3",
   "language": "python",
   "name": "python3"
  },
  "language_info": {
   "codemirror_mode": {
    "name": "ipython",
    "version": 3
   },
   "file_extension": ".py",
   "mimetype": "text/x-python",
   "name": "python",
   "nbconvert_exporter": "python",
   "pygments_lexer": "ipython3",
   "version": "3.6.5"
  }
 },
 "nbformat": 4,
 "nbformat_minor": 2
}
